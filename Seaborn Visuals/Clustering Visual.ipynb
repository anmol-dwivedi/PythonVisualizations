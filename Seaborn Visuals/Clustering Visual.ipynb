{
 "cells": [
  {
   "cell_type": "code",
   "execution_count": 1,
   "id": "98783c86",
   "metadata": {},
   "outputs": [],
   "source": [
    "import numpy as np\n",
    "import pandas as pd\n",
    "import seaborn as sns\n",
    "import matplotlib.pyplot as plt\n",
    "\n",
    "from scipy.cluster.hierarchy import dendrogram, linkage"
   ]
  },
  {
   "cell_type": "code",
   "execution_count": 2,
   "id": "43a9f664",
   "metadata": {},
   "outputs": [
    {
     "data": {
      "text/html": [
       "<div>\n",
       "<style scoped>\n",
       "    .dataframe tbody tr th:only-of-type {\n",
       "        vertical-align: middle;\n",
       "    }\n",
       "\n",
       "    .dataframe tbody tr th {\n",
       "        vertical-align: top;\n",
       "    }\n",
       "\n",
       "    .dataframe thead th {\n",
       "        text-align: right;\n",
       "    }\n",
       "</style>\n",
       "<table border=\"1\" class=\"dataframe\">\n",
       "  <thead>\n",
       "    <tr style=\"text-align: right;\">\n",
       "      <th></th>\n",
       "      <th>Name</th>\n",
       "      <th>Location</th>\n",
       "      <th>Year Manufactured</th>\n",
       "      <th>Kilometers_Driven</th>\n",
       "      <th>Fuel_Type</th>\n",
       "      <th>Transmission</th>\n",
       "      <th>Owner_Type</th>\n",
       "      <th>Seats</th>\n",
       "      <th>Price</th>\n",
       "      <th>Mileage (kmpl)</th>\n",
       "      <th>Engine Capacity(cc)</th>\n",
       "      <th>BrakeHorsePower (bhp)</th>\n",
       "      <th>New_Price (in lakhs)</th>\n",
       "      <th>Car Age</th>\n",
       "    </tr>\n",
       "  </thead>\n",
       "  <tbody>\n",
       "    <tr>\n",
       "      <th>0</th>\n",
       "      <td>Renault KWID 1.0 RXT Optional AMT</td>\n",
       "      <td>Kochi</td>\n",
       "      <td>2017</td>\n",
       "      <td>53105</td>\n",
       "      <td>Petrol</td>\n",
       "      <td>Automatic</td>\n",
       "      <td>First</td>\n",
       "      <td>5</td>\n",
       "      <td>4.41</td>\n",
       "      <td>22.50</td>\n",
       "      <td>999</td>\n",
       "      <td>67.00</td>\n",
       "      <td>4.93</td>\n",
       "      <td>5</td>\n",
       "    </tr>\n",
       "    <tr>\n",
       "      <th>1</th>\n",
       "      <td>Maruti Wagon R VXI AMT</td>\n",
       "      <td>Mumbai</td>\n",
       "      <td>2018</td>\n",
       "      <td>1997</td>\n",
       "      <td>Petrol</td>\n",
       "      <td>Automatic</td>\n",
       "      <td>First</td>\n",
       "      <td>5</td>\n",
       "      <td>4.45</td>\n",
       "      <td>22.50</td>\n",
       "      <td>998</td>\n",
       "      <td>67.00</td>\n",
       "      <td>6.14</td>\n",
       "      <td>4</td>\n",
       "    </tr>\n",
       "    <tr>\n",
       "      <th>2</th>\n",
       "      <td>Skoda Superb Style 1.8 TSI AT</td>\n",
       "      <td>Hyderabad</td>\n",
       "      <td>2017</td>\n",
       "      <td>26000</td>\n",
       "      <td>Petrol</td>\n",
       "      <td>Automatic</td>\n",
       "      <td>First</td>\n",
       "      <td>5</td>\n",
       "      <td>26.00</td>\n",
       "      <td>14.67</td>\n",
       "      <td>1798</td>\n",
       "      <td>177.46</td>\n",
       "      <td>33.58</td>\n",
       "      <td>5</td>\n",
       "    </tr>\n",
       "    <tr>\n",
       "      <th>3</th>\n",
       "      <td>Tata Tiago 1.2 Revotron XZ WO Alloy</td>\n",
       "      <td>Hyderabad</td>\n",
       "      <td>2017</td>\n",
       "      <td>16500</td>\n",
       "      <td>Petrol</td>\n",
       "      <td>Manual</td>\n",
       "      <td>First</td>\n",
       "      <td>5</td>\n",
       "      <td>5.00</td>\n",
       "      <td>23.84</td>\n",
       "      <td>1199</td>\n",
       "      <td>84.00</td>\n",
       "      <td>6.29</td>\n",
       "      <td>5</td>\n",
       "    </tr>\n",
       "    <tr>\n",
       "      <th>4</th>\n",
       "      <td>Maruti Vitara Brezza ZDi</td>\n",
       "      <td>Coimbatore</td>\n",
       "      <td>2017</td>\n",
       "      <td>21789</td>\n",
       "      <td>Diesel</td>\n",
       "      <td>Manual</td>\n",
       "      <td>First</td>\n",
       "      <td>5</td>\n",
       "      <td>9.88</td>\n",
       "      <td>24.30</td>\n",
       "      <td>1248</td>\n",
       "      <td>88.50</td>\n",
       "      <td>11.00</td>\n",
       "      <td>5</td>\n",
       "    </tr>\n",
       "  </tbody>\n",
       "</table>\n",
       "</div>"
      ],
      "text/plain": [
       "                                  Name    Location  Year Manufactured  \\\n",
       "0    Renault KWID 1.0 RXT Optional AMT       Kochi               2017   \n",
       "1               Maruti Wagon R VXI AMT      Mumbai               2018   \n",
       "2        Skoda Superb Style 1.8 TSI AT   Hyderabad               2017   \n",
       "3  Tata Tiago 1.2 Revotron XZ WO Alloy   Hyderabad               2017   \n",
       "4             Maruti Vitara Brezza ZDi  Coimbatore               2017   \n",
       "\n",
       "   Kilometers_Driven Fuel_Type Transmission Owner_Type  Seats  Price  \\\n",
       "0              53105    Petrol    Automatic      First      5   4.41   \n",
       "1               1997    Petrol    Automatic      First      5   4.45   \n",
       "2              26000    Petrol    Automatic      First      5  26.00   \n",
       "3              16500    Petrol       Manual      First      5   5.00   \n",
       "4              21789    Diesel       Manual      First      5   9.88   \n",
       "\n",
       "   Mileage (kmpl)  Engine Capacity(cc)  BrakeHorsePower (bhp)  \\\n",
       "0           22.50                  999                  67.00   \n",
       "1           22.50                  998                  67.00   \n",
       "2           14.67                 1798                 177.46   \n",
       "3           23.84                 1199                  84.00   \n",
       "4           24.30                 1248                  88.50   \n",
       "\n",
       "   New_Price (in lakhs)  Car Age  \n",
       "0                  4.93        5  \n",
       "1                  6.14        4  \n",
       "2                 33.58        5  \n",
       "3                  6.29        5  \n",
       "4                 11.00        5  "
      ]
     },
     "execution_count": 2,
     "metadata": {},
     "output_type": "execute_result"
    }
   ],
   "source": [
    "df = pd.read_csv(\"df3_15per_data.csv\")\n",
    "df.head()"
   ]
  },
  {
   "cell_type": "code",
   "execution_count": 3,
   "id": "ea994060",
   "metadata": {},
   "outputs": [
    {
     "data": {
      "text/plain": [
       "Index(['Name', 'Location', 'Year Manufactured', 'Kilometers_Driven',\n",
       "       'Fuel_Type', 'Transmission', 'Owner_Type', 'Seats', 'Price',\n",
       "       'Mileage (kmpl)', 'Engine Capacity(cc)', 'BrakeHorsePower (bhp)',\n",
       "       'New_Price (in lakhs)', 'Car Age'],\n",
       "      dtype='object')"
      ]
     },
     "execution_count": 3,
     "metadata": {},
     "output_type": "execute_result"
    }
   ],
   "source": [
    "df.columns"
   ]
  },
  {
   "cell_type": "code",
   "execution_count": 4,
   "id": "a3c8baf4",
   "metadata": {},
   "outputs": [],
   "source": [
    "df4 = df[['Kilometers_Driven',\n",
    "          'Seats',\n",
    "          'Price',\n",
    "          'Mileage (kmpl)',\n",
    "          'Engine Capacity(cc)',\n",
    "          'BrakeHorsePower (bhp)',\n",
    "          'New_Price (in lakhs)',\n",
    "          'Car Age']]"
   ]
  },
  {
   "cell_type": "code",
   "execution_count": 5,
   "id": "f65bcf72",
   "metadata": {},
   "outputs": [
    {
     "data": {
      "text/html": [
       "<div>\n",
       "<style scoped>\n",
       "    .dataframe tbody tr th:only-of-type {\n",
       "        vertical-align: middle;\n",
       "    }\n",
       "\n",
       "    .dataframe tbody tr th {\n",
       "        vertical-align: top;\n",
       "    }\n",
       "\n",
       "    .dataframe thead th {\n",
       "        text-align: right;\n",
       "    }\n",
       "</style>\n",
       "<table border=\"1\" class=\"dataframe\">\n",
       "  <thead>\n",
       "    <tr style=\"text-align: right;\">\n",
       "      <th></th>\n",
       "      <th>Kilometers_Driven</th>\n",
       "      <th>Seats</th>\n",
       "      <th>Price</th>\n",
       "      <th>Mileage (kmpl)</th>\n",
       "      <th>Engine Capacity(cc)</th>\n",
       "      <th>BrakeHorsePower (bhp)</th>\n",
       "      <th>New_Price (in lakhs)</th>\n",
       "      <th>Car Age</th>\n",
       "    </tr>\n",
       "  </thead>\n",
       "  <tbody>\n",
       "    <tr>\n",
       "      <th>0</th>\n",
       "      <td>53105</td>\n",
       "      <td>5</td>\n",
       "      <td>4.41</td>\n",
       "      <td>22.50</td>\n",
       "      <td>999</td>\n",
       "      <td>67.00</td>\n",
       "      <td>4.93</td>\n",
       "      <td>5</td>\n",
       "    </tr>\n",
       "    <tr>\n",
       "      <th>1</th>\n",
       "      <td>1997</td>\n",
       "      <td>5</td>\n",
       "      <td>4.45</td>\n",
       "      <td>22.50</td>\n",
       "      <td>998</td>\n",
       "      <td>67.00</td>\n",
       "      <td>6.14</td>\n",
       "      <td>4</td>\n",
       "    </tr>\n",
       "    <tr>\n",
       "      <th>2</th>\n",
       "      <td>26000</td>\n",
       "      <td>5</td>\n",
       "      <td>26.00</td>\n",
       "      <td>14.67</td>\n",
       "      <td>1798</td>\n",
       "      <td>177.46</td>\n",
       "      <td>33.58</td>\n",
       "      <td>5</td>\n",
       "    </tr>\n",
       "    <tr>\n",
       "      <th>3</th>\n",
       "      <td>16500</td>\n",
       "      <td>5</td>\n",
       "      <td>5.00</td>\n",
       "      <td>23.84</td>\n",
       "      <td>1199</td>\n",
       "      <td>84.00</td>\n",
       "      <td>6.29</td>\n",
       "      <td>5</td>\n",
       "    </tr>\n",
       "    <tr>\n",
       "      <th>4</th>\n",
       "      <td>21789</td>\n",
       "      <td>5</td>\n",
       "      <td>9.88</td>\n",
       "      <td>24.30</td>\n",
       "      <td>1248</td>\n",
       "      <td>88.50</td>\n",
       "      <td>11.00</td>\n",
       "      <td>5</td>\n",
       "    </tr>\n",
       "  </tbody>\n",
       "</table>\n",
       "</div>"
      ],
      "text/plain": [
       "   Kilometers_Driven  Seats  Price  Mileage (kmpl)  Engine Capacity(cc)  \\\n",
       "0              53105      5   4.41           22.50                  999   \n",
       "1               1997      5   4.45           22.50                  998   \n",
       "2              26000      5  26.00           14.67                 1798   \n",
       "3              16500      5   5.00           23.84                 1199   \n",
       "4              21789      5   9.88           24.30                 1248   \n",
       "\n",
       "   BrakeHorsePower (bhp)  New_Price (in lakhs)  Car Age  \n",
       "0                  67.00                  4.93        5  \n",
       "1                  67.00                  6.14        4  \n",
       "2                 177.46                 33.58        5  \n",
       "3                  84.00                  6.29        5  \n",
       "4                  88.50                 11.00        5  "
      ]
     },
     "execution_count": 5,
     "metadata": {},
     "output_type": "execute_result"
    }
   ],
   "source": [
    "df4.head(5)"
   ]
  },
  {
   "cell_type": "code",
   "execution_count": 6,
   "id": "18b13a0d",
   "metadata": {},
   "outputs": [],
   "source": [
    "df4.to_csv(\"df4.csv\", index=False)"
   ]
  },
  {
   "cell_type": "markdown",
   "id": "6fe2685e",
   "metadata": {},
   "source": [
    "# Agglomerative Clustering"
   ]
  },
  {
   "cell_type": "code",
   "execution_count": 7,
   "id": "e839315c",
   "metadata": {},
   "outputs": [],
   "source": [
    "# clustering\n",
    "wardlink = linkage(df4, method='ward')"
   ]
  },
  {
   "cell_type": "code",
   "execution_count": 8,
   "id": "a99c3b55",
   "metadata": {},
   "outputs": [
    {
     "data": {
      "image/png": "[encoded data removed]",
      "text/plain": [
       "<Figure size 1080x360 with 1 Axes>"
      ]
     },
     "metadata": {
      "needs_background": "light"
     },
     "output_type": "display_data"
    }
   ],
   "source": [
    "# plotting the dendrogram\n",
    "plt.figure(figsize=(15,5))\n",
    "dend = dendrogram(wardlink)"
   ]
  },
  {
   "cell_type": "code",
   "execution_count": 9,
   "id": "7071eb51",
   "metadata": {},
   "outputs": [
    {
     "data": {
      "image/png": "[encoded data removed]",
      "text/plain": [
       "<Figure size 1080x360 with 1 Axes>"
      ]
     },
     "metadata": {
      "needs_background": "light"
     },
     "output_type": "display_data"
    }
   ],
   "source": [
    "plt.figure(figsize=(15,5))\n",
    "dend = dendrogram(wardlink,\n",
    "                 truncate_mode='lastp',\n",
    "                 p=5)"
   ]
  },
  {
   "cell_type": "code",
   "execution_count": null,
   "id": "ca52a16f",
   "metadata": {},
   "outputs": [],
   "source": []
  }
 ],
 "metadata": {
  "kernelspec": {
   "display_name": "Python 3 (ipykernel)",
   "language": "python",
   "name": "python3"
  },
  "language_info": {
   "codemirror_mode": {
    "name": "ipython",
    "version": 3
   },
   "file_extension": ".py",
   "mimetype": "text/x-python",
   "name": "python",
   "nbconvert_exporter": "python",
   "pygments_lexer": "ipython3",
   "version": "3.9.7"
  }
 },
 "nbformat": 4,
 "nbformat_minor": 5
}
